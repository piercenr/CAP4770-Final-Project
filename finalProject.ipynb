{
 "cells": [
  {
   "cell_type": "code",
   "execution_count": 1,
   "id": "40759b44-3280-4f4a-939a-9d6592d15901",
   "metadata": {},
   "outputs": [
    {
     "name": "stdout",
     "output_type": "stream",
     "text": [
      "0        555210.0\n",
      "1             0.0\n",
      "2        110794.0\n",
      "3        400407.0\n",
      "4             0.0\n",
      "          ...    \n",
      "2282     517073.0\n",
      "2283      37434.0\n",
      "2284    1053208.0\n",
      "2285      54217.0\n",
      "2286      17505.0\n",
      "Name: Unlinked Passenger Trips FY, Length: 2287, dtype: float64\n",
      "0       98.61\n",
      "1        0.00\n",
      "2       52.27\n",
      "3       22.23\n",
      "4        0.00\n",
      "        ...  \n",
      "2282    19.36\n",
      "2283    46.82\n",
      "2284     6.44\n",
      "2285    45.50\n",
      "2286    42.02\n",
      "Name: Avg Cost Per Trip FY, Length: 2287, dtype: float64\n",
      "0       54748982.0\n",
      "1              0.0\n",
      "2        5791694.0\n",
      "3        8899659.0\n",
      "4              0.0\n",
      "           ...    \n",
      "2282    10012370.0\n",
      "2283     1752583.0\n",
      "2284     6777893.0\n",
      "2285     2466784.0\n",
      "2286      735590.0\n",
      "Name: Operating Expenses FY, Length: 2287, dtype: float64\n",
      "0        276.10\n",
      "1          0.00\n",
      "2       -491.62\n",
      "3       1388.61\n",
      "4          0.00\n",
      "         ...   \n",
      "2282   -1836.72\n",
      "2283      76.88\n",
      "2284    4766.52\n",
      "2285      89.50\n",
      "2286     -29.90\n",
      "Name: Revenue, Length: 2287, dtype: float64\n"
     ]
    }
   ],
   "source": [
    "import pandas as pd\n",
    "\"\"\"\n",
    "file reading resulted in an error. encoding iso fixed the issue reading unkown character\n",
    "\"\"\"\n",
    "df = pd.read_csv(\"master.csv\", encoding = \"ISO-8859-1\")\n",
    "\n",
    "df['Operating Expenses FY'] = df['Operating Expenses FY'].str.replace(r'[^0-9]', '', regex=True).astype(float)\n",
    "df['Operating Expenses FY'] = pd.to_numeric(df['Operating Expenses FY'], errors='coerce')\n",
    "df['Operating Expenses FY'] = df['Operating Expenses FY'] / 100\n",
    "\n",
    "df['Unlinked Passenger Trips FY'] = df['Unlinked Passenger Trips FY'].str.replace(r'[^0-9]', '', regex=True).astype(float)\n",
    "df['Unlinked Passenger Trips FY'] = pd.to_numeric(df['Unlinked Passenger Trips FY'], errors='coerce')\n",
    "\n",
    "df['Avg Cost Per Trip FY'] = df['Avg Cost Per Trip FY'].str.replace(r'[^0-9]', '', regex=True).astype(float)\n",
    "df['Avg Cost Per Trip FY'] = pd.to_numeric(df['Avg Cost Per Trip FY'], errors='coerce')\n",
    "df['Avg Cost Per Trip FY'] = df['Avg Cost Per Trip FY'] / 100\n",
    "df['Revenue'] = (df['Avg Cost Per Trip FY'] * df['Unlinked Passenger Trips FY']) - df['Operating Expenses FY']\n",
    "print(df['Unlinked Passenger Trips FY'])\n",
    "print(df['Avg Cost Per Trip FY'])\n",
    "print(df['Operating Expenses FY'])\n",
    "print(df['Revenue'])\n"
   ]
  },
  {
   "cell_type": "code",
   "execution_count": null,
   "id": "b6bf708a-5f5c-4e23-a897-2d0e07d26523",
   "metadata": {},
   "outputs": [],
   "source": []
  }
 ],
 "metadata": {
  "kernelspec": {
   "display_name": "Python 3 (ipykernel)",
   "language": "python",
   "name": "python3"
  },
  "language_info": {
   "codemirror_mode": {
    "name": "ipython",
    "version": 3
   },
   "file_extension": ".py",
   "mimetype": "text/x-python",
   "name": "python",
   "nbconvert_exporter": "python",
   "pygments_lexer": "ipython3",
   "version": "3.11.7"
  }
 },
 "nbformat": 4,
 "nbformat_minor": 5
}
