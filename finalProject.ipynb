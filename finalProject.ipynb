{
 "cells": [
  {
   "cell_type": "code",
   "execution_count": 1,
   "id": "40759b44-3280-4f4a-939a-9d6592d15901",
   "metadata": {},
   "outputs": [
    {
     "name": "stdout",
     "output_type": "stream",
     "text": [
      "0       Active\n",
      "2       Active\n",
      "3       Active\n",
      "5       Active\n",
      "6       Active\n",
      "         ...  \n",
      "2282    Active\n",
      "2283    Active\n",
      "2284    Active\n",
      "2285    Active\n",
      "2286    Active\n",
      "Name: Status, Length: 1288, dtype: object\n"
     ]
    }
   ],
   "source": [
    "import pandas as pd\n",
    "\"\"\"\n",
    "file reading resulted in an error. encoding iso fixed the issue reading unkown character\n",
    "\"\"\"\n",
    "df = pd.read_csv(\"master.csv\", encoding = \"ISO-8859-1\")\n",
    "\n",
    "df['Operating Expenses FY'] = df['Operating Expenses FY'].str.replace(r'[^0-9]', '', regex=True).astype(float)\n",
    "df['Operating Expenses FY'] = pd.to_numeric(df['Operating Expenses FY'], errors='coerce')\n",
    "df['Operating Expenses FY'] = df['Operating Expenses FY'] / 100\n",
    "\n",
    "df['Unlinked Passenger Trips FY'] = df['Unlinked Passenger Trips FY'].str.replace(r'[^0-9]', '', regex=True).astype(float)\n",
    "df['Unlinked Passenger Trips FY'] = pd.to_numeric(df['Unlinked Passenger Trips FY'], errors='coerce')\n",
    "\n",
    "df['Avg Cost Per Trip FY'] = df['Avg Cost Per Trip FY'].str.replace(r'[^0-9]', '', regex=True).astype(float)\n",
    "df['Avg Cost Per Trip FY'] = pd.to_numeric(df['Avg Cost Per Trip FY'], errors='coerce')\n",
    "df['Avg Cost Per Trip FY'] = df['Avg Cost Per Trip FY'] / 100\n",
    "df['Revenue'] = (df['Avg Cost Per Trip FY'] * df['Unlinked Passenger Trips FY']) - df['Operating Expenses FY']\n",
    "\n",
    "df['Passenger Miles FY'] = df['Passenger Miles FY'].str.replace(r'[^0-9]', '', regex=True)\n",
    "df['Passenger Miles FY'] = pd.to_numeric(df['Passenger Miles FY'], errors='coerce')\n",
    "df = df[df['Passenger Miles FY'] != 0]\n",
    "\n",
    "df = df[~(df['Status'].isna() | (df['Status'] == 'Inactive'))]\n",
    "\n",
    "print(df['Status'])\n",
    "#print(df['Revenue'])\n",
    "\n"
   ]
  },
  {
   "cell_type": "code",
   "execution_count": null,
   "id": "3465c9a6-fda4-47e6-9b37-8d72b4dba88e",
   "metadata": {},
   "outputs": [],
   "source": []
  }
 ],
 "metadata": {
  "kernelspec": {
   "display_name": "Python 3 (ipykernel)",
   "language": "python",
   "name": "python3"
  },
  "language_info": {
   "codemirror_mode": {
    "name": "ipython",
    "version": 3
   },
   "file_extension": ".py",
   "mimetype": "text/x-python",
   "name": "python",
   "nbconvert_exporter": "python",
   "pygments_lexer": "ipython3",
   "version": "3.11.7"
  }
 },
 "nbformat": 4,
 "nbformat_minor": 5
}
