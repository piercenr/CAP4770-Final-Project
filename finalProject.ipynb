{
 "cells": [
  {
   "cell_type": "code",
   "execution_count": 2,
   "id": "40759b44-3280-4f4a-939a-9d6592d15901",
   "metadata": {},
   "outputs": [
    {
     "data": {
      "text/plain": [
       "0                        Seattle--Tacoma, WA\n",
       "1                        Seattle--Tacoma, WA\n",
       "2                        Seattle--Tacoma, WA\n",
       "3                        Seattle--Tacoma, WA\n",
       "4                        Seattle--Tacoma, WA\n",
       "                        ...                 \n",
       "2282    Los Angeles--Long Beach--Anaheim, CA\n",
       "2283    Los Angeles--Long Beach--Anaheim, CA\n",
       "2284    Los Angeles--Long Beach--Anaheim, CA\n",
       "2285    Los Angeles--Long Beach--Anaheim, CA\n",
       "2286    Los Angeles--Long Beach--Anaheim, CA\n",
       "Name: UZA Name, Length: 2287, dtype: object"
      ]
     },
     "execution_count": 2,
     "metadata": {},
     "output_type": "execute_result"
    }
   ],
   "source": [
    "import pandas as pd\n",
    "\n",
    "\"\"\"\n",
    "file reading resulted in an error. encoding iso fixed the issue reading unkown character\n",
    "\"\"\"\n",
    "df = pd.read_csv(\"master.csv\", encoding = \"ISO-8859-1\")\n",
    "df[\"UZA Name\"]"
   ]
  },
  {
   "cell_type": "code",
   "execution_count": null,
   "id": "d8df3e0b-6584-4d26-afed-6ca8e08d7e1e",
   "metadata": {},
   "outputs": [],
   "source": []
  }
 ],
 "metadata": {
  "kernelspec": {
   "display_name": "Python 3 (ipykernel)",
   "language": "python",
   "name": "python3"
  },
  "language_info": {
   "codemirror_mode": {
    "name": "ipython",
    "version": 3
   },
   "file_extension": ".py",
   "mimetype": "text/x-python",
   "name": "python",
   "nbconvert_exporter": "python",
   "pygments_lexer": "ipython3",
   "version": "3.11.7"
  }
 },
 "nbformat": 4,
 "nbformat_minor": 5
}
